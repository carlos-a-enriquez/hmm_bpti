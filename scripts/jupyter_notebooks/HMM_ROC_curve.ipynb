{
  "nbformat": 4,
  "nbformat_minor": 0,
  "metadata": {
    "colab": {
      "name": "HMM_ROC_curve.ipynb",
      "provenance": [],
      "collapsed_sections": []
    },
    "kernelspec": {
      "name": "python3",
      "display_name": "Python 3"
    },
    "language_info": {
      "name": "python"
    }
  },
  "cells": [
    {
      "cell_type": "markdown",
      "source": [
        "# Preparing the ROC curve"
      ],
      "metadata": {
        "id": "jSytaI5Yigo3"
      }
    },
    {
      "cell_type": "code",
      "source": [
        "import numpy as np\n",
        "import matplotlib.pyplot as plt\n",
        "from itertools import cycle"
      ],
      "metadata": {
        "id": "i4LemYDCicVA"
      },
      "execution_count": null,
      "outputs": []
    },
    {
      "cell_type": "code",
      "source": [
        "from sklearn.metrics import roc_curve, auc\n",
        "from sklearn.model_selection import train_test_split\n",
        "from sklearn.preprocessing import label_binarize\n",
        "from sklearn.multiclass import OneVsRestClassifier\n",
        "from sklearn.metrics import roc_auc_score\n",
        "from sklearn.metrics import precision_recall_curve\n"
      ],
      "metadata": {
        "id": "mB7ME20eioMW"
      },
      "execution_count": null,
      "outputs": []
    },
    {
      "cell_type": "code",
      "source": [
        "import pandas as pd"
      ],
      "metadata": {
        "id": "faDGY5Cwtd3O"
      },
      "execution_count": null,
      "outputs": []
    },
    {
      "cell_type": "markdown",
      "source": [
        "### Functions to use\n",
        "***roc_curve()***\n",
        "\n",
        "input: \n",
        "1. y_true= ndarray of shape(n_samples) with true binary labels\n",
        "2. y_score= ndarray of shape (n_samples,) with target scores (e-values in this case). Note that the binary predictions aren't needed. \n",
        "\n",
        "Output:\n",
        "1. fpr : ndarray of shape (>2,)\n",
        "    Increasing false positive rates such that element i is the false positive rate of predictions with score >= thresholds[i].\n",
        "\n",
        "2. tpr : ndarray of shape (>2,)\n",
        "    Increasing true positive rates such that element i is the true positive rate of predictions with score >= thresholds[i].\n",
        "\n",
        "\n",
        "***auc(x,y)***\n",
        "\n",
        "Compute Area Under the Curve (AUC) using the trapezoidal rule.\n",
        "\n",
        "This is a general function, given points on a curve. For computing the area under the ROC-curve, see roc_auc_score. For an alternative way to summarize a precision-recall curve, see average_precision_score.\n",
        "\n",
        "x : ndarray of shape (n,)\n",
        "    x coordinates. These must be either monotonic increasing or monotonic decreasing.\n",
        "\n",
        "y : ndarray of shape, (n,)\n",
        "    y coordinates.\n",
        "\n",
        "roc_auc[i] = auc(fpr[i], tpr[i])\n"
      ],
      "metadata": {
        "id": "jvnRELszjJo_"
      }
    },
    {
      "cell_type": "code",
      "source": [
        "from google.colab import files\n",
        "uploaded = files.upload()"
      ],
      "metadata": {
        "colab": {
          "base_uri": "https://localhost:8080/",
          "height": 110,
          "resources": {
            "http://localhost:8080/nbextensions/google.colab/files.js": {
              "data": "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",
              "ok": true,
              "headers": [
                [
                  "content-type",
                  "application/javascript"
                ]
              ],
              "status": 200,
              "status_text": ""
            }
          }
        },
        "id": "J5pdnIrIjIOd",
        "outputId": "5d14953c-3484-4bac-d293-5ec57a4d12bb"
      },
      "execution_count": null,
      "outputs": [
        {
          "output_type": "display_data",
          "data": {
            "text/plain": [
              "<IPython.core.display.HTML object>"
            ],
            "text/html": [
              "\n",
              "     <input type=\"file\" id=\"files-d322f461-0a09-4672-868f-c83bc7f14a1b\" name=\"files[]\" multiple disabled\n",
              "        style=\"border:none\" />\n",
              "     <output id=\"result-d322f461-0a09-4672-868f-c83bc7f14a1b\">\n",
              "      Upload widget is only available when the cell has been executed in the\n",
              "      current browser session. Please rerun this cell to enable.\n",
              "      </output>\n",
              "      <script src=\"/nbextensions/google.colab/files.js\"></script> "
            ]
          },
          "metadata": {}
        },
        {
          "output_type": "stream",
          "name": "stdout",
          "text": [
            "Saving set-1.class to set-1.class\n",
            "Saving set-2.class to set-2.class\n"
          ]
        }
      ]
    },
    {
      "cell_type": "code",
      "source": [
        "def get_ROC_data(fh, eval_pos=-2, bin_class=-1):\n",
        "  y_true = []\n",
        "  y_score = []\n",
        "  for line in fh:\n",
        "    line = line.rstrip()\n",
        "    if not line: continue\n",
        "    cols = line.split()\n",
        "    y_true.append(int(cols[bin_class]))\n",
        "    y_score.append(float(cols[eval_pos]))\n",
        "  y_true = np.array(y_true)\n",
        "  y_score = np.array(y_score)\n",
        "  return y_true, y_score\n",
        "\n",
        "\n"
      ],
      "metadata": {
        "id": "E53R0PAemeH-"
      },
      "execution_count": null,
      "outputs": []
    },
    {
      "cell_type": "code",
      "source": [
        "with open('set-1.class', 'r') as fh:\n",
        "  y_true, y_score = get_ROC_data(fh)\n",
        " "
      ],
      "metadata": {
        "id": "Ct_p9AV1pp7R"
      },
      "execution_count": null,
      "outputs": []
    },
    {
      "cell_type": "code",
      "source": [
        "y_score"
      ],
      "metadata": {
        "colab": {
          "base_uri": "https://localhost:8080/"
        },
        "id": "Muz9S1NXpxFG",
        "outputId": "21cc5a95-93f7-44a8-d551-db11ba5ab3cb"
      },
      "execution_count": null,
      "outputs": [
        {
          "output_type": "execute_result",
          "data": {
            "text/plain": [
              "array([1.6e-22, 2.3e-22, 7.8e-30, ..., 1.0e+01, 1.0e+01, 1.0e+01])"
            ]
          },
          "metadata": {},
          "execution_count": 62
        }
      ]
    },
    {
      "cell_type": "code",
      "source": [
        "y_score = np.log(y_score)/np.log(10)  #log-transform #correct to base 10"
      ],
      "metadata": {
        "id": "dDFdJO4OsZIz"
      },
      "execution_count": null,
      "outputs": []
    },
    {
      "cell_type": "code",
      "source": [
        "np.log(10)"
      ],
      "metadata": {
        "colab": {
          "base_uri": "https://localhost:8080/"
        },
        "id": "ne85qofRsKDI",
        "outputId": "e4dd678e-e08a-4dc9-a0b6-19c794a29c30"
      },
      "execution_count": null,
      "outputs": [
        {
          "output_type": "execute_result",
          "data": {
            "text/plain": [
              "2.302585092994046"
            ]
          },
          "metadata": {},
          "execution_count": 58
        }
      ]
    },
    {
      "cell_type": "code",
      "source": [
        "y_score"
      ],
      "metadata": {
        "colab": {
          "base_uri": "https://localhost:8080/"
        },
        "id": "hR1bdutCxlCx",
        "outputId": "a9bde9aa-4aa7-4dd2-b92f-679495cc6c7f"
      },
      "execution_count": null,
      "outputs": [
        {
          "output_type": "execute_result",
          "data": {
            "text/plain": [
              "array([-21.79588002, -21.63827216, -29.1079054 , ...,   1.        ,\n",
              "         1.        ,   1.        ])"
            ]
          },
          "metadata": {},
          "execution_count": 64
        }
      ]
    },
    {
      "cell_type": "code",
      "source": [
        "y_score = np.negative(y_score)"
      ],
      "metadata": {
        "id": "RHd4XOB90cGS"
      },
      "execution_count": null,
      "outputs": []
    },
    {
      "cell_type": "code",
      "source": [
        "y_score"
      ],
      "metadata": {
        "colab": {
          "base_uri": "https://localhost:8080/"
        },
        "id": "VQpKS9a80mxa",
        "outputId": "b731b4f7-d71b-4902-ff69-4fa77e454c31"
      },
      "execution_count": null,
      "outputs": [
        {
          "output_type": "execute_result",
          "data": {
            "text/plain": [
              "array([21.79588002, 21.63827216, 29.1079054 , ..., -1.        ,\n",
              "       -1.        , -1.        ])"
            ]
          },
          "metadata": {},
          "execution_count": 66
        }
      ]
    },
    {
      "cell_type": "code",
      "source": [
        "fpr, tpr, thr = roc_curve(y_true, y_score)"
      ],
      "metadata": {
        "id": "mBaKFojTp4q9"
      },
      "execution_count": null,
      "outputs": []
    },
    {
      "cell_type": "code",
      "source": [
        "roc_val = np.array([fpr, tpr, thr])"
      ],
      "metadata": {
        "id": "xGJInsN6u7rZ"
      },
      "execution_count": null,
      "outputs": []
    },
    {
      "cell_type": "code",
      "source": [
        "roc_val.shape"
      ],
      "metadata": {
        "colab": {
          "base_uri": "https://localhost:8080/"
        },
        "id": "yK1e8iTevJ1Q",
        "outputId": "25cfde8c-b0b8-4c2a-d521-bd84f58ede89"
      },
      "execution_count": null,
      "outputs": [
        {
          "output_type": "execute_result",
          "data": {
            "text/plain": [
              "(3, 334)"
            ]
          },
          "metadata": {},
          "execution_count": 19
        }
      ]
    },
    {
      "cell_type": "code",
      "source": [
        "roc_val = roc_val.T"
      ],
      "metadata": {
        "id": "REset28VvYqp"
      },
      "execution_count": null,
      "outputs": []
    },
    {
      "cell_type": "code",
      "source": [
        "roc_val.shape"
      ],
      "metadata": {
        "colab": {
          "base_uri": "https://localhost:8080/"
        },
        "id": "cU7MHwKJvhsK",
        "outputId": "8e83ee5f-5a6b-4ab9-82e1-f6dbb39a5e9b"
      },
      "execution_count": null,
      "outputs": [
        {
          "output_type": "execute_result",
          "data": {
            "text/plain": [
              "(334, 3)"
            ]
          },
          "metadata": {},
          "execution_count": 21
        }
      ]
    },
    {
      "cell_type": "code",
      "source": [
        "db = pd.DataFrame(roc_val, columns=['fpr', 'tpr', 'thr'])"
      ],
      "metadata": {
        "id": "PcWNOVHetPmr"
      },
      "execution_count": null,
      "outputs": []
    },
    {
      "cell_type": "code",
      "source": [
        "db"
      ],
      "metadata": {
        "colab": {
          "base_uri": "https://localhost:8080/",
          "height": 424
        },
        "id": "LFnyM0YGtq0A",
        "outputId": "4779bbf7-65ee-4f25-b34a-71ef680d38fe"
      },
      "execution_count": null,
      "outputs": [
        {
          "output_type": "execute_result",
          "data": {
            "text/plain": [
              "          fpr       tpr        thr\n",
              "0    0.000000  0.000000  73.894266\n",
              "1    0.000000  0.005952  72.894266\n",
              "2    0.000000  0.035714  68.384406\n",
              "3    0.000000  0.047619  68.335615\n",
              "4    0.000000  0.083333  67.023429\n",
              "..        ...       ...        ...\n",
              "329  0.294490  1.000000   0.030459\n",
              "330  0.296170  1.000000   0.020203\n",
              "331  0.297889  1.000000   0.010050\n",
              "332  0.453260  1.000000  -0.000000\n",
              "333  1.000000  1.000000  -2.302585\n",
              "\n",
              "[334 rows x 3 columns]"
            ],
            "text/html": [
              "\n",
              "  <div id=\"df-5aa775a8-2897-4f4c-a8ea-37ad63ee616c\">\n",
              "    <div class=\"colab-df-container\">\n",
              "      <div>\n",
              "<style scoped>\n",
              "    .dataframe tbody tr th:only-of-type {\n",
              "        vertical-align: middle;\n",
              "    }\n",
              "\n",
              "    .dataframe tbody tr th {\n",
              "        vertical-align: top;\n",
              "    }\n",
              "\n",
              "    .dataframe thead th {\n",
              "        text-align: right;\n",
              "    }\n",
              "</style>\n",
              "<table border=\"1\" class=\"dataframe\">\n",
              "  <thead>\n",
              "    <tr style=\"text-align: right;\">\n",
              "      <th></th>\n",
              "      <th>fpr</th>\n",
              "      <th>tpr</th>\n",
              "      <th>thr</th>\n",
              "    </tr>\n",
              "  </thead>\n",
              "  <tbody>\n",
              "    <tr>\n",
              "      <th>0</th>\n",
              "      <td>0.000000</td>\n",
              "      <td>0.000000</td>\n",
              "      <td>73.894266</td>\n",
              "    </tr>\n",
              "    <tr>\n",
              "      <th>1</th>\n",
              "      <td>0.000000</td>\n",
              "      <td>0.005952</td>\n",
              "      <td>72.894266</td>\n",
              "    </tr>\n",
              "    <tr>\n",
              "      <th>2</th>\n",
              "      <td>0.000000</td>\n",
              "      <td>0.035714</td>\n",
              "      <td>68.384406</td>\n",
              "    </tr>\n",
              "    <tr>\n",
              "      <th>3</th>\n",
              "      <td>0.000000</td>\n",
              "      <td>0.047619</td>\n",
              "      <td>68.335615</td>\n",
              "    </tr>\n",
              "    <tr>\n",
              "      <th>4</th>\n",
              "      <td>0.000000</td>\n",
              "      <td>0.083333</td>\n",
              "      <td>67.023429</td>\n",
              "    </tr>\n",
              "    <tr>\n",
              "      <th>...</th>\n",
              "      <td>...</td>\n",
              "      <td>...</td>\n",
              "      <td>...</td>\n",
              "    </tr>\n",
              "    <tr>\n",
              "      <th>329</th>\n",
              "      <td>0.294490</td>\n",
              "      <td>1.000000</td>\n",
              "      <td>0.030459</td>\n",
              "    </tr>\n",
              "    <tr>\n",
              "      <th>330</th>\n",
              "      <td>0.296170</td>\n",
              "      <td>1.000000</td>\n",
              "      <td>0.020203</td>\n",
              "    </tr>\n",
              "    <tr>\n",
              "      <th>331</th>\n",
              "      <td>0.297889</td>\n",
              "      <td>1.000000</td>\n",
              "      <td>0.010050</td>\n",
              "    </tr>\n",
              "    <tr>\n",
              "      <th>332</th>\n",
              "      <td>0.453260</td>\n",
              "      <td>1.000000</td>\n",
              "      <td>-0.000000</td>\n",
              "    </tr>\n",
              "    <tr>\n",
              "      <th>333</th>\n",
              "      <td>1.000000</td>\n",
              "      <td>1.000000</td>\n",
              "      <td>-2.302585</td>\n",
              "    </tr>\n",
              "  </tbody>\n",
              "</table>\n",
              "<p>334 rows × 3 columns</p>\n",
              "</div>\n",
              "      <button class=\"colab-df-convert\" onclick=\"convertToInteractive('df-5aa775a8-2897-4f4c-a8ea-37ad63ee616c')\"\n",
              "              title=\"Convert this dataframe to an interactive table.\"\n",
              "              style=\"display:none;\">\n",
              "        \n",
              "  <svg xmlns=\"http://www.w3.org/2000/svg\" height=\"24px\"viewBox=\"0 0 24 24\"\n",
              "       width=\"24px\">\n",
              "    <path d=\"M0 0h24v24H0V0z\" fill=\"none\"/>\n",
              "    <path d=\"M18.56 5.44l.94 2.06.94-2.06 2.06-.94-2.06-.94-.94-2.06-.94 2.06-2.06.94zm-11 1L8.5 8.5l.94-2.06 2.06-.94-2.06-.94L8.5 2.5l-.94 2.06-2.06.94zm10 10l.94 2.06.94-2.06 2.06-.94-2.06-.94-.94-2.06-.94 2.06-2.06.94z\"/><path d=\"M17.41 7.96l-1.37-1.37c-.4-.4-.92-.59-1.43-.59-.52 0-1.04.2-1.43.59L10.3 9.45l-7.72 7.72c-.78.78-.78 2.05 0 2.83L4 21.41c.39.39.9.59 1.41.59.51 0 1.02-.2 1.41-.59l7.78-7.78 2.81-2.81c.8-.78.8-2.07 0-2.86zM5.41 20L4 18.59l7.72-7.72 1.47 1.35L5.41 20z\"/>\n",
              "  </svg>\n",
              "      </button>\n",
              "      \n",
              "  <style>\n",
              "    .colab-df-container {\n",
              "      display:flex;\n",
              "      flex-wrap:wrap;\n",
              "      gap: 12px;\n",
              "    }\n",
              "\n",
              "    .colab-df-convert {\n",
              "      background-color: #E8F0FE;\n",
              "      border: none;\n",
              "      border-radius: 50%;\n",
              "      cursor: pointer;\n",
              "      display: none;\n",
              "      fill: #1967D2;\n",
              "      height: 32px;\n",
              "      padding: 0 0 0 0;\n",
              "      width: 32px;\n",
              "    }\n",
              "\n",
              "    .colab-df-convert:hover {\n",
              "      background-color: #E2EBFA;\n",
              "      box-shadow: 0px 1px 2px rgba(60, 64, 67, 0.3), 0px 1px 3px 1px rgba(60, 64, 67, 0.15);\n",
              "      fill: #174EA6;\n",
              "    }\n",
              "\n",
              "    [theme=dark] .colab-df-convert {\n",
              "      background-color: #3B4455;\n",
              "      fill: #D2E3FC;\n",
              "    }\n",
              "\n",
              "    [theme=dark] .colab-df-convert:hover {\n",
              "      background-color: #434B5C;\n",
              "      box-shadow: 0px 1px 3px 1px rgba(0, 0, 0, 0.15);\n",
              "      filter: drop-shadow(0px 1px 2px rgba(0, 0, 0, 0.3));\n",
              "      fill: #FFFFFF;\n",
              "    }\n",
              "  </style>\n",
              "\n",
              "      <script>\n",
              "        const buttonEl =\n",
              "          document.querySelector('#df-5aa775a8-2897-4f4c-a8ea-37ad63ee616c button.colab-df-convert');\n",
              "        buttonEl.style.display =\n",
              "          google.colab.kernel.accessAllowed ? 'block' : 'none';\n",
              "\n",
              "        async function convertToInteractive(key) {\n",
              "          const element = document.querySelector('#df-5aa775a8-2897-4f4c-a8ea-37ad63ee616c');\n",
              "          const dataTable =\n",
              "            await google.colab.kernel.invokeFunction('convertToInteractive',\n",
              "                                                     [key], {});\n",
              "          if (!dataTable) return;\n",
              "\n",
              "          const docLinkHtml = 'Like what you see? Visit the ' +\n",
              "            '<a target=\"_blank\" href=https://colab.research.google.com/notebooks/data_table.ipynb>data table notebook</a>'\n",
              "            + ' to learn more about interactive tables.';\n",
              "          element.innerHTML = '';\n",
              "          dataTable['output_type'] = 'display_data';\n",
              "          await google.colab.output.renderOutput(dataTable, element);\n",
              "          const docLink = document.createElement('div');\n",
              "          docLink.innerHTML = docLinkHtml;\n",
              "          element.appendChild(docLink);\n",
              "        }\n",
              "      </script>\n",
              "    </div>\n",
              "  </div>\n",
              "  "
            ]
          },
          "metadata": {},
          "execution_count": 23
        }
      ]
    },
    {
      "cell_type": "code",
      "source": [
        "roc_auc = auc(fpr, tpr)"
      ],
      "metadata": {
        "id": "fkKsHo0MrBzY"
      },
      "execution_count": null,
      "outputs": []
    },
    {
      "cell_type": "code",
      "source": [
        "roc_auc"
      ],
      "metadata": {
        "colab": {
          "base_uri": "https://localhost:8080/"
        },
        "id": "4iKED4Sfrdxu",
        "outputId": "a6700964-1e15-49f2-d92a-8a74f2eedab3"
      },
      "execution_count": null,
      "outputs": [
        {
          "output_type": "execute_result",
          "data": {
            "text/plain": [
              "0.9999941907800768"
            ]
          },
          "metadata": {},
          "execution_count": 25
        }
      ]
    },
    {
      "cell_type": "code",
      "source": [
        "plt.figure()\n",
        "lw = 2\n",
        "plt.plot(\n",
        "    fpr,\n",
        "    tpr,\n",
        "    color=\"darkorange\",\n",
        "    lw=lw,\n",
        "    label=\"ROC curve (area = %0.2f)\" % roc_auc,\n",
        ")\n",
        "plt.plot([0, 1], [0, 1], color=\"navy\", lw=lw, linestyle=\"--\")\n",
        "plt.xlim([0.0, 1.0])\n",
        "plt.ylim([0.0, 1.05])\n",
        "plt.xlabel(\"False Positive Rate\")\n",
        "plt.ylabel(\"True Positive Rate\")\n",
        "plt.title(\"Receiver operating characteristic example\")\n",
        "plt.legend(loc=\"lower right\")\n",
        "plt.show()"
      ],
      "metadata": {
        "colab": {
          "base_uri": "https://localhost:8080/",
          "height": 295
        },
        "id": "t3cB9TeDrzh4",
        "outputId": "daf76313-edef-411d-9db3-1a4c940f2db8"
      },
      "execution_count": null,
      "outputs": [
        {
          "output_type": "display_data",
          "data": {
            "text/plain": [
              "<Figure size 432x288 with 1 Axes>"
            ],
            "image/png": "[encoded data removed]"
          },
          "metadata": {
            "needs_background": "light"
          }
        }
      ]
    },
    {
      "cell_type": "markdown",
      "source": [
        "### After the first attempt lets do set 2\n",
        "\n",
        "Greyed out because it was copied for the precision-recall version"
      ],
      "metadata": {
        "id": "wyUwtkxZ181h"
      }
    },
    {
      "cell_type": "code",
      "source": [
        "#with open('set-2.class', 'r') as fh:\n",
        " # y_true, y_score = get_ROC_data(fh)"
      ],
      "metadata": {
        "id": "z5JjCs0d2Afn"
      },
      "execution_count": null,
      "outputs": []
    },
    {
      "cell_type": "code",
      "source": [
        "#y_score = np.negative(np.log(y_score))  #negative of log-transform\n",
        "#y_score = np.negative(y_score)"
      ],
      "metadata": {
        "id": "yhJShFEZ2Glx"
      },
      "execution_count": null,
      "outputs": []
    },
    {
      "cell_type": "code",
      "source": [
        "#y_score"
      ],
      "metadata": {
        "id": "jGZU188Z2Z-D"
      },
      "execution_count": null,
      "outputs": []
    },
    {
      "cell_type": "markdown",
      "source": [
        "Getting the ROC"
      ],
      "metadata": {
        "id": "wdzC-VVd2jYr"
      }
    },
    {
      "cell_type": "code",
      "source": [
        "#fpr, tpr, thr = roc_curve(y_true, y_score)"
      ],
      "metadata": {
        "id": "NcYWyj092kio"
      },
      "execution_count": null,
      "outputs": []
    },
    {
      "cell_type": "code",
      "source": [
        "#roc_auc = auc(fpr, tpr)"
      ],
      "metadata": {
        "id": "BRCeZBex2m7Y"
      },
      "execution_count": null,
      "outputs": []
    },
    {
      "cell_type": "code",
      "source": [
        "#plt.figure()\n",
        "#lw = 2\n",
        "#plt.plot(\n",
        "#    fpr,\n",
        "#    tpr,\n",
        "#    color=\"darkorange\",\n",
        "#    lw=lw,\n",
        "#    label=\"ROC curve (area = %0.2f)\" % roc_auc,\n",
        "#)\n",
        "#plt.plot([0, 1], [0, 1], color=\"navy\", lw=lw, linestyle=\"--\")\n",
        "#plt.xlim([0.0, 1.0])\n",
        "#plt.ylim([0.0, 1.05])\n",
        "#plt.xlabel(\"False Positive Rate\")\n",
        "#plt.ylabel(\"True Positive Rate\")\n",
        "#plt.title(\"Receiver operating characteristic example\")\n",
        "#plt.legend(loc=\"lower right\")\n",
        "#plt.show()"
      ],
      "metadata": {
        "id": "xp_rTAk92sJX"
      },
      "execution_count": null,
      "outputs": []
    },
    {
      "cell_type": "markdown",
      "source": [
        "For imbalanced classification with a severe skew and few examples of the minority class, the ROC AUC can be misleading. This is because a small number of correct or incorrect predictions can result in a large change in the ROC Curve or ROC AUC score.\n",
        "\n",
        "Although ROC graphs are widely used to evaluate classifiers under presence of class imbalance, it has a drawback: under class rarity, that is, when the problem of class imbalance is associated to the presence of a low sample size of minority instances, as the estimates can be unreliable.\n",
        "\n",
        "— Page 55, Learning from Imbalanced Data Sets, 2018.\n",
        "\n",
        "A common alternative is the precision-recall curve and area under curve."
      ],
      "metadata": {
        "id": "dGyl3eLospZq"
      }
    },
    {
      "cell_type": "markdown",
      "source": [
        "# Precision-recall AUC"
      ],
      "metadata": {
        "id": "ewQw-iM6sqoq"
      }
    },
    {
      "cell_type": "markdown",
      "source": [
        "### Set 1"
      ],
      "metadata": {
        "id": "9NcgWJZKvHbc"
      }
    },
    {
      "cell_type": "code",
      "source": [
        "# calculate precision-recall curve\n",
        "precision, recall, th = precision_recall_curve(y_true, y_score)\n"
      ],
      "metadata": {
        "id": "BF9OH4vAssRm"
      },
      "execution_count": null,
      "outputs": []
    },
    {
      "cell_type": "code",
      "source": [
        "# getting the AUC\n",
        "roc_auc = auc(recall, precision)"
      ],
      "metadata": {
        "id": "ibawWJs6uKEe"
      },
      "execution_count": null,
      "outputs": []
    },
    {
      "cell_type": "code",
      "source": [
        "roc_auc"
      ],
      "metadata": {
        "colab": {
          "base_uri": "https://localhost:8080/"
        },
        "id": "ArhFZse0uemE",
        "outputId": "04dbca94-cf1f-44f8-a0f5-03ff69f89c3d"
      },
      "execution_count": null,
      "outputs": [
        {
          "output_type": "execute_result",
          "data": {
            "text/plain": [
              "0.9810663358225107"
            ]
          },
          "metadata": {},
          "execution_count": 70
        }
      ]
    },
    {
      "cell_type": "code",
      "source": [
        "plt.figure()\n",
        "lw = 2\n",
        "plt.plot(\n",
        "    recall,\n",
        "    precision,\n",
        "    color=\"darkorange\",\n",
        "    lw=lw,\n",
        "    label=\"ROC curve (area = %0.2f)\" % roc_auc,\n",
        ")\n",
        "plt.plot([1, 0], [0, 1], color=\"navy\", lw=lw, linestyle=\"--\")\n",
        "plt.xlim([0.0, 1.0])\n",
        "plt.ylim([0.0, 1.05])\n",
        "plt.xlabel(\"Recall\")\n",
        "plt.ylabel(\"Precision\")\n",
        "plt.title(\"ROC curve for set-1\")\n",
        "plt.legend(loc=\"lower right\")\n",
        "plt.show()"
      ],
      "metadata": {
        "colab": {
          "base_uri": "https://localhost:8080/",
          "height": 295
        },
        "id": "f0Q1Eqcsugbi",
        "outputId": "d09bca5c-3b7a-4aac-8c74-6ebba2be0b84"
      },
      "execution_count": null,
      "outputs": [
        {
          "output_type": "display_data",
          "data": {
            "text/plain": [
              "<Figure size 432x288 with 1 Axes>"
            ],
            "image/png": "[encoded data removed]"
          },
          "metadata": {
            "needs_background": "light"
          }
        }
      ]
    },
    {
      "cell_type": "code",
      "source": [
        "precision"
      ],
      "metadata": {
        "colab": {
          "base_uri": "https://localhost:8080/"
        },
        "id": "SMNm-LvBgZMx",
        "outputId": "2b22932f-26b1-426e-fa79-41461103a0eb"
      },
      "execution_count": null,
      "outputs": [
        {
          "output_type": "execute_result",
          "data": {
            "text/plain": [
              "array([0.94915254, 0.94886364, 0.95428571, 0.95977011, 0.96531792,\n",
              "       0.97093023, 0.97660819, 0.98235294, 0.98224852, 0.98809524,\n",
              "       0.98802395, 0.98795181, 0.98787879, 0.98780488, 0.98773006,\n",
              "       0.98757764, 0.9875    , 0.98742138, 0.98734177, 0.98726115,\n",
              "       0.98717949, 0.98709677, 0.98701299, 0.98684211, 0.98675497,\n",
              "       0.98666667, 0.98657718, 0.98639456, 0.9862069 , 0.98591549,\n",
              "       0.9858156 , 0.98571429, 0.98561151, 0.98550725, 0.98540146,\n",
              "       0.98529412, 0.98518519, 0.98507463, 0.98496241, 0.98484848,\n",
              "       0.98473282, 0.98461538, 0.98449612, 0.984375  , 0.98425197,\n",
              "       0.98412698, 0.984     , 0.98387097, 0.98373984, 0.98360656,\n",
              "       0.98347107, 0.98333333, 0.98319328, 0.98305085, 0.98290598,\n",
              "       0.98275862, 0.9826087 , 0.98245614, 0.98214286, 0.98198198,\n",
              "       0.98181818, 0.98165138, 0.98148148, 0.98130841, 0.98113208,\n",
              "       0.98095238, 0.98076923, 0.98058252, 0.98039216, 0.98019802,\n",
              "       0.98      , 0.97979798, 0.97938144, 0.97916667, 0.97894737,\n",
              "       0.9787234 , 0.97849462, 0.97826087, 0.97802198, 0.97777778,\n",
              "       0.97752809, 0.97701149, 0.97674419, 0.97647059, 0.97619048,\n",
              "       0.97590361, 0.97560976, 0.975     , 0.97468354, 0.97435897,\n",
              "       0.97402597, 0.97368421, 0.97333333, 0.97297297, 0.97260274,\n",
              "       0.97183099, 0.97142857, 0.97101449, 0.97058824, 0.97014925,\n",
              "       0.96875   , 0.96774194, 0.96666667, 0.96551724, 0.96491228,\n",
              "       0.96428571, 0.96363636, 0.96296296, 0.96226415, 0.96153846,\n",
              "       0.96      , 0.95918367, 0.95833333, 0.95744681, 0.95555556,\n",
              "       0.95454545, 0.95348837, 0.95238095, 0.95121951, 0.95      ,\n",
              "       0.97368421, 0.97297297, 0.97222222, 0.97142857, 0.97058824,\n",
              "       0.96969697, 0.96875   , 0.96774194, 1.        , 1.        ,\n",
              "       1.        , 1.        , 1.        , 1.        , 1.        ,\n",
              "       1.        , 1.        , 1.        , 1.        , 1.        ,\n",
              "       1.        , 1.        , 1.        , 1.        , 1.        ,\n",
              "       1.        , 1.        , 1.        , 1.        , 1.        ,\n",
              "       1.        , 1.        , 1.        , 1.        , 1.        ])"
            ]
          },
          "metadata": {},
          "execution_count": 20
        }
      ]
    },
    {
      "cell_type": "code",
      "source": [
        "recall"
      ],
      "metadata": {
        "colab": {
          "base_uri": "https://localhost:8080/"
        },
        "id": "NGJo7sWygb3Y",
        "outputId": "c93d76d0-a2c3-4757-c650-d27cadfa91d6"
      },
      "execution_count": null,
      "outputs": [
        {
          "output_type": "execute_result",
          "data": {
            "text/plain": [
              "array([1.        , 0.99404762, 0.99404762, 0.99404762, 0.99404762,\n",
              "       0.99404762, 0.99404762, 0.99404762, 0.98809524, 0.98809524,\n",
              "       0.98214286, 0.97619048, 0.9702381 , 0.96428571, 0.95833333,\n",
              "       0.94642857, 0.94047619, 0.93452381, 0.92857143, 0.92261905,\n",
              "       0.91666667, 0.91071429, 0.9047619 , 0.89285714, 0.88690476,\n",
              "       0.88095238, 0.875     , 0.86309524, 0.85119048, 0.83333333,\n",
              "       0.82738095, 0.82142857, 0.81547619, 0.80952381, 0.80357143,\n",
              "       0.79761905, 0.79166667, 0.78571429, 0.7797619 , 0.77380952,\n",
              "       0.76785714, 0.76190476, 0.75595238, 0.75      , 0.74404762,\n",
              "       0.73809524, 0.73214286, 0.72619048, 0.7202381 , 0.71428571,\n",
              "       0.70833333, 0.70238095, 0.69642857, 0.69047619, 0.68452381,\n",
              "       0.67857143, 0.67261905, 0.66666667, 0.6547619 , 0.64880952,\n",
              "       0.64285714, 0.63690476, 0.63095238, 0.625     , 0.61904762,\n",
              "       0.61309524, 0.60714286, 0.60119048, 0.5952381 , 0.58928571,\n",
              "       0.58333333, 0.57738095, 0.56547619, 0.55952381, 0.55357143,\n",
              "       0.54761905, 0.54166667, 0.53571429, 0.5297619 , 0.52380952,\n",
              "       0.51785714, 0.50595238, 0.5       , 0.49404762, 0.48809524,\n",
              "       0.48214286, 0.47619048, 0.46428571, 0.45833333, 0.45238095,\n",
              "       0.44642857, 0.44047619, 0.43452381, 0.42857143, 0.42261905,\n",
              "       0.41071429, 0.4047619 , 0.39880952, 0.39285714, 0.38690476,\n",
              "       0.36904762, 0.35714286, 0.3452381 , 0.33333333, 0.32738095,\n",
              "       0.32142857, 0.31547619, 0.30952381, 0.30357143, 0.29761905,\n",
              "       0.28571429, 0.2797619 , 0.27380952, 0.26785714, 0.25595238,\n",
              "       0.25      , 0.24404762, 0.23809524, 0.23214286, 0.22619048,\n",
              "       0.2202381 , 0.21428571, 0.20833333, 0.20238095, 0.19642857,\n",
              "       0.19047619, 0.18452381, 0.17857143, 0.17857143, 0.17261905,\n",
              "       0.1547619 , 0.14880952, 0.14285714, 0.13690476, 0.13095238,\n",
              "       0.125     , 0.11904762, 0.11309524, 0.10714286, 0.10119048,\n",
              "       0.0952381 , 0.08333333, 0.07738095, 0.07142857, 0.06547619,\n",
              "       0.05952381, 0.05357143, 0.04761905, 0.03571429, 0.0297619 ,\n",
              "       0.02380952, 0.01785714, 0.01190476, 0.00595238, 0.        ])"
            ]
          },
          "metadata": {},
          "execution_count": 21
        }
      ]
    },
    {
      "cell_type": "code",
      "source": [
        "th"
      ],
      "metadata": {
        "colab": {
          "base_uri": "https://localhost:8080/"
        },
        "id": "G3Ykf2Zyggzy",
        "outputId": "b0c1dc77-d5ec-4fa5-b4bf-339687e7141c"
      },
      "execution_count": null,
      "outputs": [
        {
          "output_type": "execute_result",
          "data": {
            "text/plain": [
              "array([ 4.52287875,  4.79588002,  5.02227639,  5.07572071,  6.33724217,\n",
              "        6.67778071,  7.67778071,  8.29242982,  8.85387196,  9.61978876,\n",
              "       14.67778071, 14.85387196, 15.05551733, 15.09151498, 15.58502665,\n",
              "       15.7212464 , 15.88605665, 16.19382003, 16.33724217, 16.39794001,\n",
              "       16.65757732, 16.74472749, 16.76955108, 17.1426675 , 17.60205999,\n",
              "       17.95860731, 18.08092191, 18.29242982, 18.58502665, 18.92081875,\n",
              "       18.95860731, 19.03151705, 19.18045606, 19.34678749, 19.85387196,\n",
              "       19.92081875, 20.02227639, 20.08618615, 20.19382003, 20.21467016,\n",
              "       20.27572413, 20.65757732, 20.69897   , 20.85387196, 20.88605665,\n",
              "       20.92081875, 21.46852108, 21.537602  , 21.63827216, 21.79588002,\n",
              "       21.88605665, 21.92081875, 22.20065945, 22.40893539, 22.95860731,\n",
              "       23.01322827, 23.25963731, 23.26760624, 23.4436975 , 23.58502665,\n",
              "       23.79588002, 23.85387196, 23.88605665, 24.        , 24.04095861,\n",
              "       24.1426675 , 24.34678749, 24.43179828, 24.46852108, 24.55284197,\n",
              "       24.58502665, 24.7212464 , 24.92081875, 25.10237291, 25.26760624,\n",
              "       25.65757732, 25.7212464 , 25.76955108, 25.85387196, 25.92081875,\n",
              "       26.        , 26.01322827, 26.03621217, 26.04095861, 26.15490196,\n",
              "       26.20065945, 26.20760831, 26.26760624, 26.35654732, 26.38721614,\n",
              "       26.45593196, 26.50863831, 26.55284197, 26.60205999, 26.61978876,\n",
              "       26.63827216, 26.65757732, 26.69897   , 26.74472749, 26.76955108,\n",
              "       26.82390874, 26.92081875, 27.        , 27.07058107, 27.14874165,\n",
              "       27.16115091, 27.1739252 , 27.20760831, 27.21467016, 27.25963731,\n",
              "       27.31875876, 27.40893539, 27.43179828, 27.48148606, 27.56863624,\n",
              "       27.61978876, 27.65757732, 27.67778071, 27.7212464 , 27.74472749,\n",
              "       27.76955108, 27.85387196, 27.88605665, 27.92081875, 28.09691001,\n",
              "       28.19382003, 28.31875876, 28.33724217, 28.34678749, 28.37675071,\n",
              "       28.52287875, 28.537602  , 28.61978876, 28.63827216, 28.69897   ,\n",
              "       28.7212464 , 28.76955108, 28.82390874, 28.95860731, 29.00436481,\n",
              "       29.07572071, 29.1079054 , 29.1426675 , 29.20065945, 29.4436975 ,\n",
              "       29.55284197, 29.63827216, 29.67778071, 29.69897   , 29.82390874,\n",
              "       30.00877392, 30.79588002, 31.10237291, 31.65757732])"
            ]
          },
          "metadata": {},
          "execution_count": 72
        }
      ]
    },
    {
      "cell_type": "code",
      "source": [
        "print(precision.shape, recall.shape, th.shape)"
      ],
      "metadata": {
        "colab": {
          "base_uri": "https://localhost:8080/"
        },
        "id": "gmK_-Sn9l9HX",
        "outputId": "a3622ddf-2be7-488d-9b14-d400a08102e4"
      },
      "execution_count": null,
      "outputs": [
        {
          "output_type": "stream",
          "name": "stdout",
          "text": [
            "(155,) (155,) (154,)\n"
          ]
        }
      ]
    },
    {
      "cell_type": "code",
      "source": [
        "th = np.append(th, 0)"
      ],
      "metadata": {
        "id": "8bNQq2MQmM62"
      },
      "execution_count": null,
      "outputs": []
    },
    {
      "cell_type": "code",
      "source": [
        "dip = np.array([precision,recall,th])"
      ],
      "metadata": {
        "id": "JMQ-1lGgidHI"
      },
      "execution_count": null,
      "outputs": []
    },
    {
      "cell_type": "code",
      "source": [
        "dip.shape"
      ],
      "metadata": {
        "colab": {
          "base_uri": "https://localhost:8080/"
        },
        "id": "b_fBzeYJk8TQ",
        "outputId": "c235d22f-a48a-4bb0-9d97-7c849a4529b9"
      },
      "execution_count": null,
      "outputs": [
        {
          "output_type": "execute_result",
          "data": {
            "text/plain": [
              "(3, 155)"
            ]
          },
          "metadata": {},
          "execution_count": 76
        }
      ]
    },
    {
      "cell_type": "code",
      "source": [
        "dip = dip.T"
      ],
      "metadata": {
        "id": "MmnRsiXdlijH"
      },
      "execution_count": null,
      "outputs": []
    },
    {
      "cell_type": "code",
      "source": [
        "dip.shape"
      ],
      "metadata": {
        "colab": {
          "base_uri": "https://localhost:8080/"
        },
        "id": "BerS4V9omqxw",
        "outputId": "49a43c65-8eb1-433f-eb63-fbb50cb7ddbd"
      },
      "execution_count": null,
      "outputs": [
        {
          "output_type": "execute_result",
          "data": {
            "text/plain": [
              "(155, 3)"
            ]
          },
          "metadata": {},
          "execution_count": 78
        }
      ]
    },
    {
      "cell_type": "code",
      "source": [
        "pd.DataFrame(dip, columns=['prec', 'rec', 'th'])"
      ],
      "metadata": {
        "colab": {
          "base_uri": "https://localhost:8080/",
          "height": 655
        },
        "id": "0Qe2GCg8lMOG",
        "outputId": "5fe80cd9-c901-4aa9-9516-17dd5c0c2b96"
      },
      "execution_count": null,
      "outputs": [
        {
          "output_type": "execute_result",
          "data": {
            "text/plain": [
              "         prec       rec         th\n",
              "0    0.949153  1.000000   4.522879\n",
              "1    0.948864  0.994048   4.795880\n",
              "2    0.954286  0.994048   5.022276\n",
              "3    0.959770  0.994048   5.075721\n",
              "4    0.965318  0.994048   6.337242\n",
              "..        ...       ...        ...\n",
              "150  1.000000  0.023810  30.008774\n",
              "151  1.000000  0.017857  30.795880\n",
              "152  1.000000  0.011905  31.102373\n",
              "153  1.000000  0.005952  31.657577\n",
              "154  1.000000  0.000000   0.000000\n",
              "\n",
              "[155 rows x 3 columns]"
            ],
            "text/html": [
              "\n",
              "  <div id=\"df-b80ca47a-daa4-4789-b868-a718cf83821d\">\n",
              "    <div class=\"colab-df-container\">\n",
              "      <div>\n",
              "<style scoped>\n",
              "    .dataframe tbody tr th:only-of-type {\n",
              "        vertical-align: middle;\n",
              "    }\n",
              "\n",
              "    .dataframe tbody tr th {\n",
              "        vertical-align: top;\n",
              "    }\n",
              "\n",
              "    .dataframe thead th {\n",
              "        text-align: right;\n",
              "    }\n",
              "</style>\n",
              "<table border=\"1\" class=\"dataframe\">\n",
              "  <thead>\n",
              "    <tr style=\"text-align: right;\">\n",
              "      <th></th>\n",
              "      <th>prec</th>\n",
              "      <th>rec</th>\n",
              "      <th>th</th>\n",
              "    </tr>\n",
              "  </thead>\n",
              "  <tbody>\n",
              "    <tr>\n",
              "      <th>0</th>\n",
              "      <td>0.949153</td>\n",
              "      <td>1.000000</td>\n",
              "      <td>4.522879</td>\n",
              "    </tr>\n",
              "    <tr>\n",
              "      <th>1</th>\n",
              "      <td>0.948864</td>\n",
              "      <td>0.994048</td>\n",
              "      <td>4.795880</td>\n",
              "    </tr>\n",
              "    <tr>\n",
              "      <th>2</th>\n",
              "      <td>0.954286</td>\n",
              "      <td>0.994048</td>\n",
              "      <td>5.022276</td>\n",
              "    </tr>\n",
              "    <tr>\n",
              "      <th>3</th>\n",
              "      <td>0.959770</td>\n",
              "      <td>0.994048</td>\n",
              "      <td>5.075721</td>\n",
              "    </tr>\n",
              "    <tr>\n",
              "      <th>4</th>\n",
              "      <td>0.965318</td>\n",
              "      <td>0.994048</td>\n",
              "      <td>6.337242</td>\n",
              "    </tr>\n",
              "    <tr>\n",
              "      <th>...</th>\n",
              "      <td>...</td>\n",
              "      <td>...</td>\n",
              "      <td>...</td>\n",
              "    </tr>\n",
              "    <tr>\n",
              "      <th>150</th>\n",
              "      <td>1.000000</td>\n",
              "      <td>0.023810</td>\n",
              "      <td>30.008774</td>\n",
              "    </tr>\n",
              "    <tr>\n",
              "      <th>151</th>\n",
              "      <td>1.000000</td>\n",
              "      <td>0.017857</td>\n",
              "      <td>30.795880</td>\n",
              "    </tr>\n",
              "    <tr>\n",
              "      <th>152</th>\n",
              "      <td>1.000000</td>\n",
              "      <td>0.011905</td>\n",
              "      <td>31.102373</td>\n",
              "    </tr>\n",
              "    <tr>\n",
              "      <th>153</th>\n",
              "      <td>1.000000</td>\n",
              "      <td>0.005952</td>\n",
              "      <td>31.657577</td>\n",
              "    </tr>\n",
              "    <tr>\n",
              "      <th>154</th>\n",
              "      <td>1.000000</td>\n",
              "      <td>0.000000</td>\n",
              "      <td>0.000000</td>\n",
              "    </tr>\n",
              "  </tbody>\n",
              "</table>\n",
              "<p>155 rows × 3 columns</p>\n",
              "</div>\n",
              "      <button class=\"colab-df-convert\" onclick=\"convertToInteractive('df-b80ca47a-daa4-4789-b868-a718cf83821d')\"\n",
              "              title=\"Convert this dataframe to an interactive table.\"\n",
              "              style=\"display:none;\">\n",
              "        \n",
              "  <svg xmlns=\"http://www.w3.org/2000/svg\" height=\"24px\"viewBox=\"0 0 24 24\"\n",
              "       width=\"24px\">\n",
              "    <path d=\"M0 0h24v24H0V0z\" fill=\"none\"/>\n",
              "    <path d=\"M18.56 5.44l.94 2.06.94-2.06 2.06-.94-2.06-.94-.94-2.06-.94 2.06-2.06.94zm-11 1L8.5 8.5l.94-2.06 2.06-.94-2.06-.94L8.5 2.5l-.94 2.06-2.06.94zm10 10l.94 2.06.94-2.06 2.06-.94-2.06-.94-.94-2.06-.94 2.06-2.06.94z\"/><path d=\"M17.41 7.96l-1.37-1.37c-.4-.4-.92-.59-1.43-.59-.52 0-1.04.2-1.43.59L10.3 9.45l-7.72 7.72c-.78.78-.78 2.05 0 2.83L4 21.41c.39.39.9.59 1.41.59.51 0 1.02-.2 1.41-.59l7.78-7.78 2.81-2.81c.8-.78.8-2.07 0-2.86zM5.41 20L4 18.59l7.72-7.72 1.47 1.35L5.41 20z\"/>\n",
              "  </svg>\n",
              "      </button>\n",
              "      \n",
              "  <style>\n",
              "    .colab-df-container {\n",
              "      display:flex;\n",
              "      flex-wrap:wrap;\n",
              "      gap: 12px;\n",
              "    }\n",
              "\n",
              "    .colab-df-convert {\n",
              "      background-color: #E8F0FE;\n",
              "      border: none;\n",
              "      border-radius: 50%;\n",
              "      cursor: pointer;\n",
              "      display: none;\n",
              "      fill: #1967D2;\n",
              "      height: 32px;\n",
              "      padding: 0 0 0 0;\n",
              "      width: 32px;\n",
              "    }\n",
              "\n",
              "    .colab-df-convert:hover {\n",
              "      background-color: #E2EBFA;\n",
              "      box-shadow: 0px 1px 2px rgba(60, 64, 67, 0.3), 0px 1px 3px 1px rgba(60, 64, 67, 0.15);\n",
              "      fill: #174EA6;\n",
              "    }\n",
              "\n",
              "    [theme=dark] .colab-df-convert {\n",
              "      background-color: #3B4455;\n",
              "      fill: #D2E3FC;\n",
              "    }\n",
              "\n",
              "    [theme=dark] .colab-df-convert:hover {\n",
              "      background-color: #434B5C;\n",
              "      box-shadow: 0px 1px 3px 1px rgba(0, 0, 0, 0.15);\n",
              "      filter: drop-shadow(0px 1px 2px rgba(0, 0, 0, 0.3));\n",
              "      fill: #FFFFFF;\n",
              "    }\n",
              "  </style>\n",
              "\n",
              "      <script>\n",
              "        const buttonEl =\n",
              "          document.querySelector('#df-b80ca47a-daa4-4789-b868-a718cf83821d button.colab-df-convert');\n",
              "        buttonEl.style.display =\n",
              "          google.colab.kernel.accessAllowed ? 'block' : 'none';\n",
              "\n",
              "        async function convertToInteractive(key) {\n",
              "          const element = document.querySelector('#df-b80ca47a-daa4-4789-b868-a718cf83821d');\n",
              "          const dataTable =\n",
              "            await google.colab.kernel.invokeFunction('convertToInteractive',\n",
              "                                                     [key], {});\n",
              "          if (!dataTable) return;\n",
              "\n",
              "          const docLinkHtml = 'Like what you see? Visit the ' +\n",
              "            '<a target=\"_blank\" href=https://colab.research.google.com/notebooks/data_table.ipynb>data table notebook</a>'\n",
              "            + ' to learn more about interactive tables.';\n",
              "          element.innerHTML = '';\n",
              "          dataTable['output_type'] = 'display_data';\n",
              "          await google.colab.output.renderOutput(dataTable, element);\n",
              "          const docLink = document.createElement('div');\n",
              "          docLink.innerHTML = docLinkHtml;\n",
              "          element.appendChild(docLink);\n",
              "        }\n",
              "      </script>\n",
              "    </div>\n",
              "  </div>\n",
              "  "
            ]
          },
          "metadata": {},
          "execution_count": 79
        }
      ]
    },
    {
      "cell_type": "markdown",
      "source": [
        "### Set 2"
      ],
      "metadata": {
        "id": "ObFAb775vJ5z"
      }
    },
    {
      "cell_type": "code",
      "source": [
        "with open('set-2.class', 'r') as fh:\n",
        "  y_true, y_score = get_ROC_data(fh)"
      ],
      "metadata": {
        "id": "XdRy8mJJvTGx"
      },
      "execution_count": null,
      "outputs": []
    },
    {
      "cell_type": "code",
      "source": [
        "y_score = np.negative(np.log(y_score))  #negative of log-transform\n",
        "#y_score = np.negative(y_score)"
      ],
      "metadata": {
        "id": "X9tUuqArvTG3"
      },
      "execution_count": null,
      "outputs": []
    },
    {
      "cell_type": "code",
      "source": [
        "y_score"
      ],
      "metadata": {
        "colab": {
          "base_uri": "https://localhost:8080/"
        },
        "outputId": "842ee50a-6cb1-4bf1-8064-ba5ad7e7325a",
        "id": "MewuXTKBvTG3"
      },
      "execution_count": null,
      "outputs": [
        {
          "output_type": "execute_result",
          "data": {
            "text/plain": [
              "array([68.12204134, 65.61181689, 57.46931715, ..., -2.30258509,\n",
              "       -2.30258509, -2.30258509])"
            ]
          },
          "metadata": {},
          "execution_count": 33
        }
      ]
    },
    {
      "cell_type": "code",
      "source": [
        "max(y_score)"
      ],
      "metadata": {
        "colab": {
          "base_uri": "https://localhost:8080/"
        },
        "id": "9Aw1BvTtxg5r",
        "outputId": "bee01d19-f7e6-419b-f023-258c6c515800"
      },
      "execution_count": null,
      "outputs": [
        {
          "output_type": "execute_result",
          "data": {
            "text/plain": [
              "78.81552590387993"
            ]
          },
          "metadata": {},
          "execution_count": 34
        }
      ]
    },
    {
      "cell_type": "markdown",
      "source": [
        "Getting the ROC"
      ],
      "metadata": {
        "id": "tQ445FBFvTG4"
      }
    },
    {
      "cell_type": "code",
      "source": [
        "# calculate precision-recall curve\n",
        "precision, recall, th = precision_recall_curve(y_true, y_score)\n"
      ],
      "metadata": {
        "id": "1cAPRNWswOaJ"
      },
      "execution_count": null,
      "outputs": []
    },
    {
      "cell_type": "code",
      "source": [
        "precision"
      ],
      "metadata": {
        "colab": {
          "base_uri": "https://localhost:8080/"
        },
        "id": "BaiC4m6uwfyF",
        "outputId": "3bfe8048-c41a-43b2-9595-a29eee539872"
      },
      "execution_count": null,
      "outputs": [
        {
          "output_type": "execute_result",
          "data": {
            "text/plain": [
              "array([0.96      , 0.95977011, 0.96531792, 0.97093023, 0.97660819,\n",
              "       0.98235294, 0.98816568, 0.98809524, 0.98802395, 0.98795181,\n",
              "       0.98787879, 0.98780488, 0.98773006, 0.98765432, 0.98757764,\n",
              "       0.9875    , 0.98742138, 0.98734177, 0.98726115, 0.98717949,\n",
              "       0.98701299, 0.9869281 , 0.98684211, 0.98675497, 0.98666667,\n",
              "       0.98657718, 0.98639456, 0.9862069 , 0.98601399, 0.98591549,\n",
              "       0.9858156 , 0.98571429, 0.98561151, 0.98550725, 0.98540146,\n",
              "       0.98529412, 0.98518519, 0.98507463, 0.98496241, 0.98484848,\n",
              "       0.98473282, 0.98461538, 0.98449612, 0.984375  , 0.98425197,\n",
              "       0.98412698, 0.984     , 0.98387097, 0.98373984, 0.98360656,\n",
              "       0.98347107, 0.98319328, 0.98305085, 0.98290598, 0.98275862,\n",
              "       0.9826087 , 0.98245614, 0.98230088, 0.98214286, 0.98198198,\n",
              "       0.98181818, 0.98165138, 0.98148148, 0.98130841, 0.98113208,\n",
              "       0.98095238, 0.98076923, 0.98058252, 0.98039216, 0.98019802,\n",
              "       0.98      , 0.97979798, 0.97959184, 0.97938144, 0.97916667,\n",
              "       0.97894737, 0.9787234 , 0.97849462, 0.97826087, 0.97802198,\n",
              "       0.97777778, 0.97752809, 0.97727273, 0.97701149, 0.97674419,\n",
              "       0.97619048, 0.97590361, 0.97560976, 0.97530864, 0.975     ,\n",
              "       0.97468354, 0.97435897, 0.97402597, 0.97368421, 0.97333333,\n",
              "       0.97297297, 0.97260274, 0.97222222, 0.97183099, 0.97142857,\n",
              "       0.97101449, 0.97058824, 0.97014925, 0.98484848, 0.98461538,\n",
              "       0.984375  , 0.98412698, 0.98387097, 0.98360656, 0.98333333,\n",
              "       0.98305085, 0.98275862, 0.98245614, 0.98181818, 0.98148148,\n",
              "       0.98113208, 0.98      , 0.97959184, 0.97916667, 0.9787234 ,\n",
              "       0.97826087, 0.97777778, 0.97727273, 1.        , 1.        ,\n",
              "       1.        , 1.        , 1.        , 1.        , 1.        ,\n",
              "       1.        , 1.        , 1.        , 1.        , 1.        ,\n",
              "       1.        , 1.        , 1.        , 1.        , 1.        ,\n",
              "       1.        , 1.        , 1.        , 1.        , 1.        ,\n",
              "       1.        , 1.        , 1.        , 1.        , 1.        ,\n",
              "       1.        , 1.        , 1.        , 1.        , 1.        ,\n",
              "       1.        , 1.        , 1.        , 1.        , 1.        ,\n",
              "       1.        , 1.        , 1.        , 1.        ])"
            ]
          },
          "metadata": {},
          "execution_count": 36
        }
      ]
    },
    {
      "cell_type": "code",
      "source": [
        "recall"
      ],
      "metadata": {
        "colab": {
          "base_uri": "https://localhost:8080/"
        },
        "id": "fOLEFthGxGE9",
        "outputId": "062ad094-408c-480a-b2a7-e6aaca2ea864"
      },
      "execution_count": null,
      "outputs": [
        {
          "output_type": "execute_result",
          "data": {
            "text/plain": [
              "array([1.        , 0.99404762, 0.99404762, 0.99404762, 0.99404762,\n",
              "       0.99404762, 0.99404762, 0.98809524, 0.98214286, 0.97619048,\n",
              "       0.9702381 , 0.96428571, 0.95833333, 0.95238095, 0.94642857,\n",
              "       0.94047619, 0.93452381, 0.92857143, 0.92261905, 0.91666667,\n",
              "       0.9047619 , 0.89880952, 0.89285714, 0.88690476, 0.88095238,\n",
              "       0.875     , 0.86309524, 0.85119048, 0.83928571, 0.83333333,\n",
              "       0.82738095, 0.82142857, 0.81547619, 0.80952381, 0.80357143,\n",
              "       0.79761905, 0.79166667, 0.78571429, 0.7797619 , 0.77380952,\n",
              "       0.76785714, 0.76190476, 0.75595238, 0.75      , 0.74404762,\n",
              "       0.73809524, 0.73214286, 0.72619048, 0.7202381 , 0.71428571,\n",
              "       0.70833333, 0.69642857, 0.69047619, 0.68452381, 0.67857143,\n",
              "       0.67261905, 0.66666667, 0.66071429, 0.6547619 , 0.64880952,\n",
              "       0.64285714, 0.63690476, 0.63095238, 0.625     , 0.61904762,\n",
              "       0.61309524, 0.60714286, 0.60119048, 0.5952381 , 0.58928571,\n",
              "       0.58333333, 0.57738095, 0.57142857, 0.56547619, 0.55952381,\n",
              "       0.55357143, 0.54761905, 0.54166667, 0.53571429, 0.5297619 ,\n",
              "       0.52380952, 0.51785714, 0.51190476, 0.50595238, 0.5       ,\n",
              "       0.48809524, 0.48214286, 0.47619048, 0.4702381 , 0.46428571,\n",
              "       0.45833333, 0.45238095, 0.44642857, 0.44047619, 0.43452381,\n",
              "       0.42857143, 0.42261905, 0.41666667, 0.41071429, 0.4047619 ,\n",
              "       0.39880952, 0.39285714, 0.38690476, 0.38690476, 0.38095238,\n",
              "       0.375     , 0.36904762, 0.36309524, 0.35714286, 0.35119048,\n",
              "       0.3452381 , 0.33928571, 0.33333333, 0.32142857, 0.31547619,\n",
              "       0.30952381, 0.29166667, 0.28571429, 0.2797619 , 0.27380952,\n",
              "       0.26785714, 0.26190476, 0.25595238, 0.25595238, 0.25      ,\n",
              "       0.24404762, 0.23809524, 0.23214286, 0.22619048, 0.2202381 ,\n",
              "       0.21428571, 0.20833333, 0.20238095, 0.19642857, 0.18452381,\n",
              "       0.17857143, 0.17261905, 0.16666667, 0.16071429, 0.1547619 ,\n",
              "       0.14880952, 0.14285714, 0.13690476, 0.125     , 0.11904762,\n",
              "       0.11309524, 0.10714286, 0.10119048, 0.0952381 , 0.08928571,\n",
              "       0.08333333, 0.07738095, 0.07142857, 0.06547619, 0.05952381,\n",
              "       0.05357143, 0.04761905, 0.04166667, 0.03571429, 0.0297619 ,\n",
              "       0.01785714, 0.01190476, 0.00595238, 0.        ])"
            ]
          },
          "metadata": {},
          "execution_count": 37
        }
      ]
    },
    {
      "cell_type": "code",
      "source": [
        "th"
      ],
      "metadata": {
        "colab": {
          "base_uri": "https://localhost:8080/"
        },
        "id": "CwWxY-ngw6zT",
        "outputId": "d655ec5b-f718-4bb5-a58b-0c29f6c95f9c"
      },
      "execution_count": null,
      "outputs": [
        {
          "output_type": "execute_result",
          "data": {
            "text/plain": [
              "array([12.56274759, 12.78589114, 13.28488231, 13.88808125, 14.1302213 ,\n",
              "       18.08420851, 30.34912165, 30.6469561 , 30.68862879, 33.37562559,\n",
              "       34.20230416, 36.14821431, 36.50488925, 36.65903993, 37.28764859,\n",
              "       37.59638407, 37.75765222, 39.47245065, 39.62198238, 39.85729647,\n",
              "       40.4532799 , 40.53024094, 40.75338449, 40.91590342, 41.69499303,\n",
              "       41.74763677, 41.9573573 , 42.11987623, 42.15988156, 42.65050448,\n",
              "       42.79360532, 42.96065941, 43.4867525 , 43.74911677, 44.13477925,\n",
              "       44.6654075 , 45.13541113, 45.40984797, 45.52107361, 45.95639168,\n",
              "       47.52137783, 47.8236587 , 47.94882184, 48.09192269, 48.1719654 ,\n",
              "       48.38474616, 48.56500798, 48.68279102, 49.52546993, 49.9149347 ,\n",
              "       50.12624379, 50.18686842, 50.32039981, 50.47455049, 50.65687205,\n",
              "       50.81939098, 51.05734961, 51.15116837, 51.20159922, 51.23669054,\n",
              "       51.25470905, 51.52437261, 51.59848059, 51.76553467, 52.48945351,\n",
              "       52.69709287, 53.11028003, 53.19517947, 53.57564328, 53.75796484,\n",
              "       53.78043769, 55.6625198 , 55.69282515, 55.78967497, 56.06054993,\n",
              "       56.34085189, 56.43322521, 56.46601504, 56.64833659, 56.7317182 ,\n",
              "       56.77616996, 56.87148014, 57.30226306, 57.38230577, 57.46931715,\n",
              "       57.8523094 , 57.96510489, 58.5588796 , 58.58627857, 59.07875506,\n",
              "       59.22535853, 59.27942575, 59.39720879, 59.46174731, 59.68489086,\n",
              "       59.95059403, 60.053542  , 60.16831751, 60.31349952, 60.60118159,\n",
              "       60.622235  , 60.64374121, 60.94602208, 60.97587504, 61.07118522,\n",
              "       61.10508677, 61.14017809, 61.17654574, 61.29432877, 61.33688839,\n",
              "       61.38134015, 61.69979388, 61.7643324 , 61.83332527, 61.98747595,\n",
              "       62.07448733, 62.2423682 , 62.25317912, 62.3206204 , 62.54086119,\n",
              "       62.58531295, 62.64783331, 62.74961601, 62.86294469, 62.90376669,\n",
              "       63.21961964, 63.27846014, 63.63947348, 63.73044526, 63.77923542,\n",
              "       63.83052872, 64.00237897, 64.13591037, 64.29006105, 64.4723826 ,\n",
              "       64.90316552, 64.91866971, 65.38867334, 65.61181689, 66.13311381,\n",
              "       66.24433945, 66.51260343, 66.59264614, 66.7749677 , 66.85834931,\n",
              "       66.88032821, 66.93748663, 67.10347176, 67.14603138, 67.16063018,\n",
              "       67.46811488, 67.52999028, 68.12204134, 68.33561545, 68.4356989 ,\n",
              "       68.98224261, 70.63820054, 71.19781633, 72.76643224, 73.21271935,\n",
              "       74.16075878, 76.46334387, 78.8155259 ])"
            ]
          },
          "metadata": {},
          "execution_count": 38
        }
      ]
    },
    {
      "cell_type": "code",
      "source": [
        "# getting the AUC\n",
        "roc_auc = auc(recall, precision)"
      ],
      "metadata": {
        "id": "7QnM2T1awOaO"
      },
      "execution_count": null,
      "outputs": []
    },
    {
      "cell_type": "code",
      "source": [
        "roc_auc"
      ],
      "metadata": {
        "colab": {
          "base_uri": "https://localhost:8080/"
        },
        "outputId": "c5d26bec-390e-4f6b-d378-77d0c22b130f",
        "id": "Xniknht0wOaP"
      },
      "execution_count": null,
      "outputs": [
        {
          "output_type": "execute_result",
          "data": {
            "text/plain": [
              "0.986332801582066"
            ]
          },
          "metadata": {},
          "execution_count": 40
        }
      ]
    },
    {
      "cell_type": "code",
      "source": [
        "plt.figure()\n",
        "lw = 2\n",
        "plt.plot(\n",
        "    recall,\n",
        "    precision,\n",
        "    color=\"darkorange\",\n",
        "    lw=lw,\n",
        "    label=\"ROC curve (area = %0.2f)\" % roc_auc,\n",
        ")\n",
        "plt.plot([1, 0], [0, 1], color=\"navy\", lw=lw, linestyle=\"--\")\n",
        "plt.xlim([0.0, 1.05])\n",
        "plt.ylim([0.0, 1.05])\n",
        "plt.xlabel(\"Recall\")\n",
        "plt.ylabel(\"Precision\")\n",
        "plt.title(\"ROC curve for set-2\")\n",
        "plt.legend(loc=\"lower right\")\n",
        "plt.show()"
      ],
      "metadata": {
        "colab": {
          "base_uri": "https://localhost:8080/",
          "height": 295
        },
        "outputId": "b83af372-7f8a-409f-eff8-42240aba7881",
        "id": "E4NbOOvNwOaP"
      },
      "execution_count": null,
      "outputs": [
        {
          "output_type": "display_data",
          "data": {
            "text/plain": [
              "<Figure size 432x288 with 1 Axes>"
            ],
            "image/png": "[encoded data removed]"
          },
          "metadata": {
            "needs_background": "light"
          }
        }
      ]
    },
    {
      "cell_type": "code",
      "source": [
        ""
      ],
      "metadata": {
        "id": "0I4oAuHywYtB"
      },
      "execution_count": null,
      "outputs": []
    }
  ]
}